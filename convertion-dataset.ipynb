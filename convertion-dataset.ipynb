{
 "cells": [
  {
   "cell_type": "code",
   "execution_count": 1,
   "id": "b6df080f",
   "metadata": {},
   "outputs": [],
   "source": [
    "import os\n",
    "import shutil\n",
    "\n",
    "# Buat folder baru\n",
    "os.makedirs(\"images/train\", exist_ok=True)\n",
    "os.makedirs(\"images/val\", exist_ok=True)\n",
    "os.makedirs(\"labels/train\", exist_ok=True)\n",
    "os.makedirs(\"labels/val\", exist_ok=True)\n",
    "\n",
    "def move_files(txt_file, split):\n",
    "    with open(txt_file, \"r\") as f:\n",
    "        lines = f.read().splitlines()\n",
    "\n",
    "    for line in lines:\n",
    "        filename = os.path.basename(line)\n",
    "        name, _ = os.path.splitext(filename)\n",
    "\n",
    "        # Gambar dan label\n",
    "        img_src = f\"imgs/{name}.jpg\"\n",
    "        label_src = f\"imgs/{name}.txt\"\n",
    "        img_dst = f\"images/{split}/{name}.jpg\"\n",
    "        label_dst = f\"labels/{split}/{name}.txt\"\n",
    "\n",
    "        if os.path.exists(img_src) and os.path.exists(label_src):\n",
    "            shutil.copy(img_src, img_dst)\n",
    "            shutil.copy(label_src, label_dst)\n",
    "\n",
    "move_files(\"train.txt\", \"train\")\n",
    "move_files(\"test.txt\", \"val\")\n"
   ]
  }
 ],
 "metadata": {
  "kernelspec": {
   "display_name": "cuda",
   "language": "python",
   "name": "python3"
  },
  "language_info": {
   "codemirror_mode": {
    "name": "ipython",
    "version": 3
   },
   "file_extension": ".py",
   "mimetype": "text/x-python",
   "name": "python",
   "nbconvert_exporter": "python",
   "pygments_lexer": "ipython3",
   "version": "3.11.10"
  }
 },
 "nbformat": 4,
 "nbformat_minor": 5
}
